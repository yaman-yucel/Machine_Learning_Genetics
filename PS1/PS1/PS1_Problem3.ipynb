{
 "cells": [
  {
   "cell_type": "code",
   "execution_count": 1,
   "id": "1356985c",
   "metadata": {},
   "outputs": [],
   "source": [
    "import numpy as np\n",
    "from scipy import stats\n",
    "from scipy.stats import chi2\n",
    "import matplotlib.pyplot as plt"
   ]
  },
  {
   "cell_type": "code",
   "execution_count": 2,
   "id": "b3160c02",
   "metadata": {},
   "outputs": [],
   "source": [
    "genos = np.loadtxt(\"data/ps1.genos\")\n",
    "phenos = np.loadtxt(\"data/ps1.phenos\")"
   ]
  },
  {
   "cell_type": "code",
   "execution_count": 3,
   "id": "cd88bc36",
   "metadata": {},
   "outputs": [
    {
     "data": {
      "text/plain": [
       "(250, 10)"
      ]
     },
     "execution_count": 3,
     "metadata": {},
     "output_type": "execute_result"
    }
   ],
   "source": [
    "genos.shape"
   ]
  },
  {
   "cell_type": "code",
   "execution_count": 4,
   "id": "e489deb0",
   "metadata": {},
   "outputs": [
    {
     "data": {
      "text/plain": [
       "(250,)"
      ]
     },
     "execution_count": 4,
     "metadata": {},
     "output_type": "execute_result"
    }
   ],
   "source": [
    "phenos.shape"
   ]
  },
  {
   "cell_type": "code",
   "execution_count": 5,
   "id": "ec71e21b",
   "metadata": {},
   "outputs": [
    {
     "data": {
      "text/plain": [
       "array([[2., 0., 2., ..., 0., 2., 2.],\n",
       "       [0., 0., 0., ..., 0., 0., 0.],\n",
       "       [1., 0., 1., ..., 0., 1., 1.],\n",
       "       ...,\n",
       "       [2., 0., 2., ..., 0., 2., 2.],\n",
       "       [2., 0., 2., ..., 0., 2., 2.],\n",
       "       [2., 0., 2., ..., 0., 2., 2.]])"
      ]
     },
     "execution_count": 5,
     "metadata": {},
     "output_type": "execute_result"
    }
   ],
   "source": [
    "genos"
   ]
  },
  {
   "cell_type": "code",
   "execution_count": 6,
   "id": "a09bc8d6",
   "metadata": {},
   "outputs": [
    {
     "data": {
      "text/plain": [
       "array([-0.182277  , -0.13827608, -0.06136348,  0.83627189, -0.15180973,\n",
       "        0.30816298, -0.25626492,  0.94868842, -0.48257301, -0.3225064 ,\n",
       "        0.36806944,  0.10147987, -0.44795838,  0.6996848 , -0.14585318,\n",
       "       -0.28778675, -0.34945503,  0.75936789, -0.56488608,  2.15944908,\n",
       "       -0.66774805,  0.44967017,  0.25548843,  0.73088316, -1.01751483,\n",
       "       -0.12302799, -0.38493863,  0.22665785, -1.06413685, -0.03087531,\n",
       "       -0.34522791,  1.64549998,  0.15631105, -0.09136492, -0.62938814,\n",
       "       -0.19417007,  0.18200683,  0.39989989,  1.27482734,  0.6412819 ,\n",
       "       -0.08247479,  1.58881893, -1.91207778,  0.86348404, -0.47347952,\n",
       "        1.24102605, -0.32583238,  0.96555632,  0.32521217, -2.00677711,\n",
       "       -0.13103262, -1.87659101,  0.17824895,  1.77571595, -2.09979988,\n",
       "        0.92334832, -1.28823958,  1.98076695,  1.29593049, -0.76773503,\n",
       "       -0.23153805, -0.05200041, -0.61271473,  2.13943574, -0.13985349,\n",
       "       -0.65077691,  0.60501707, -0.07306084,  0.21952991, -0.0739796 ,\n",
       "        0.15672638, -0.97734441, -0.79596853,  1.54431856, -2.17728765,\n",
       "        0.2963699 , -0.99888379,  0.53598962,  1.22189098, -1.9162012 ,\n",
       "        0.57307426, -0.03448065, -0.96600489, -1.5105732 ,  0.39903104,\n",
       "        0.13774357, -0.059419  ,  0.77174234,  1.34490111, -0.08446493,\n",
       "       -0.50586287,  1.06709264, -1.09055459, -1.06398978, -0.20840021,\n",
       "        2.01276486, -0.76182695,  0.12383692, -0.81108601, -0.80676527,\n",
       "       -0.29746637,  1.27902722, -0.42408874,  0.7954576 , -1.34323728,\n",
       "       -0.63262716, -0.98222869, -0.05874819,  1.16468537, -0.08787023,\n",
       "        0.17241964, -0.02388045, -0.83175543, -1.5890147 , -0.56818336,\n",
       "        0.13132812,  0.95835004,  0.04695899, -0.2692255 ,  1.5133368 ,\n",
       "       -0.70718773,  0.67863585, -0.80332446,  0.67030113, -1.42435422,\n",
       "       -0.47019475, -0.24807951,  0.94843897, -0.42448157,  0.28889128,\n",
       "       -0.10382778, -1.05097894,  0.65247068, -0.41576851,  1.53767778,\n",
       "        0.42383316, -0.12829709,  0.16290355, -0.0253332 ,  0.16343541,\n",
       "       -0.640174  , -1.7013864 ,  0.1577597 ,  0.35298962, -1.1731672 ,\n",
       "       -1.29568604, -0.39453045, -0.19521483,  0.12892708,  0.40921845,\n",
       "        0.97374883,  1.82147654, -0.00469064,  0.26202145,  0.51712733,\n",
       "       -0.30137144, -0.36590048,  0.19260558, -0.01506347,  0.14117878,\n",
       "       -0.48572977, -0.20566578, -0.15278582,  0.75065924,  0.29078171,\n",
       "       -0.57340894, -0.22270208, -0.90229485,  0.20025738,  0.79871631,\n",
       "        0.87204178,  0.19920831, -0.07266041,  0.28107134, -0.03883931,\n",
       "       -2.15846851,  0.07257355, -0.06181963,  1.19090458,  2.30026753,\n",
       "       -1.14035101,  0.83281605,  0.12726913, -0.47480355,  0.58850307,\n",
       "        0.67029451, -0.07463814, -0.26239884, -0.99729142, -0.84131199,\n",
       "        0.06793552,  0.05138054,  0.8986522 ,  0.03729313,  1.50115292,\n",
       "       -0.38769214,  1.20395975, -0.11000946, -0.99695463,  0.27573606,\n",
       "        0.03817732, -0.59209792,  0.80452108,  0.48917243,  0.9584272 ,\n",
       "       -0.93748994, -0.23756082, -0.65666825, -2.79590402,  0.32091611,\n",
       "        0.89253895,  0.3634938 , -1.22429678, -0.50610919, -1.65075559,\n",
       "        1.15671054, -0.29883863, -0.88715016,  0.82938003, -0.49624185,\n",
       "       -1.12637101, -0.01020865,  0.03677162,  0.16413551,  0.66562777,\n",
       "       -0.84367997,  0.87654431, -1.37775401,  1.26362394, -0.27204497,\n",
       "        0.1504997 ,  0.30974622, -0.26602365, -1.47578103, -0.57607637,\n",
       "       -0.25581602, -0.62338413,  0.79791034,  0.92098372,  0.23294933,\n",
       "       -0.6485432 ,  2.16858539, -1.77253114, -1.48202571,  0.05579411,\n",
       "        2.27507888, -0.56466478, -0.88378681, -0.11647261,  2.65371871])"
      ]
     },
     "execution_count": 6,
     "metadata": {},
     "output_type": "execute_result"
    }
   ],
   "source": [
    "phenos"
   ]
  },
  {
   "cell_type": "code",
   "execution_count": 7,
   "id": "256acee0",
   "metadata": {},
   "outputs": [],
   "source": [
    "first_SNP = genos[:,0]"
   ]
  },
  {
   "cell_type": "code",
   "execution_count": 8,
   "id": "11c8fb84",
   "metadata": {},
   "outputs": [
    {
     "data": {
      "text/plain": [
       "array([2., 0., 1., 1., 0., 1., 2., 2., 2., 1., 2., 1., 0., 1., 0., 0., 1.,\n",
       "       2., 2., 1., 0., 0., 1., 1., 0., 2., 2., 1., 1., 0., 0., 1., 2., 1.,\n",
       "       1., 1., 1., 1., 2., 0., 1., 2., 0., 2., 1., 1., 1., 0., 2., 0., 2.,\n",
       "       0., 1., 1., 1., 1., 1., 2., 1., 1., 1., 1., 0., 0., 0., 1., 1., 0.,\n",
       "       2., 1., 0., 1., 2., 1., 0., 2., 1., 2., 2., 1., 0., 1., 2., 2., 0.,\n",
       "       2., 0., 1., 0., 1., 1., 0., 0., 1., 2., 0., 1., 0., 2., 2., 1., 1.,\n",
       "       1., 1., 1., 0., 0., 2., 1., 1., 1., 0., 0., 0., 0., 1., 1., 2., 1.,\n",
       "       1., 1., 2., 0., 2., 1., 1., 1., 1., 1., 1., 2., 0., 1., 1., 2., 1.,\n",
       "       1., 0., 1., 0., 0., 2., 1., 0., 0., 0., 1., 2., 0., 2., 1., 2., 1.,\n",
       "       2., 2., 1., 0., 2., 0., 1., 0., 0., 1., 1., 2., 1., 1., 0., 1., 1.,\n",
       "       2., 1., 1., 1., 1., 0., 0., 2., 1., 2., 1., 2., 1., 1., 1., 1., 1.,\n",
       "       1., 1., 0., 2., 2., 1., 2., 0., 1., 0., 0., 1., 0., 1., 0., 1., 1.,\n",
       "       1., 1., 2., 2., 1., 1., 0., 0., 1., 2., 1., 1., 1., 1., 1., 0., 2.,\n",
       "       1., 1., 1., 2., 0., 2., 0., 1., 2., 0., 0., 1., 1., 0., 2., 0., 1.,\n",
       "       2., 1., 1., 0., 0., 1., 0., 0., 0., 2., 2., 2.])"
      ]
     },
     "execution_count": 8,
     "metadata": {},
     "output_type": "execute_result"
    }
   ],
   "source": [
    "first_SNP"
   ]
  },
  {
   "cell_type": "code",
   "execution_count": 9,
   "id": "9ed3cc09",
   "metadata": {},
   "outputs": [],
   "source": [
    "test_statistic_list = []\n",
    "N_permutations = 100000\n",
    "N_individuals = first_SNP.shape[0]\n",
    "for i in range(N_permutations):\n",
    "    chosen_index1 = np.random.choice(N_individuals,int(N_individuals/2),replace = False)\n",
    "    chosen_index2 = np.random.choice(N_individuals,int(N_individuals/2),replace = False)\n",
    "    chosen_pheno = phenos[chosen_index1]\n",
    "    chosen_SNP = first_SNP[chosen_index2] \n",
    "    p_2 = (stats.pearsonr(chosen_pheno,chosen_SNP).statistic)**2\n",
    "    test_statistic_list.append((N_individuals/2) * p_2)\n",
    "test_statistic_array = np.array(test_statistic_list)"
   ]
  },
  {
   "cell_type": "code",
   "execution_count": 10,
   "id": "6e914fc7",
   "metadata": {},
   "outputs": [],
   "source": [
    "pearson_result = stats.pearsonr(phenos,first_SNP)\n",
    "\n",
    "observed_test_statistic, observed_p_value = N_individuals * (pearson_result.statistic**2), pearson_result.pvalue\n"
   ]
  },
  {
   "cell_type": "code",
   "execution_count": 11,
   "id": "5376472d",
   "metadata": {},
   "outputs": [
    {
     "data": {
      "text/plain": [
       "0.007477481395880756"
      ]
     },
     "execution_count": 11,
     "metadata": {},
     "output_type": "execute_result"
    }
   ],
   "source": [
    "observed_p_value"
   ]
  },
  {
   "cell_type": "code",
   "execution_count": 12,
   "id": "4962a1cf",
   "metadata": {},
   "outputs": [
    {
     "data": {
      "text/plain": [
       "7.123297230470764"
      ]
     },
     "execution_count": 12,
     "metadata": {},
     "output_type": "execute_result"
    }
   ],
   "source": [
    "observed_test_statistic"
   ]
  },
  {
   "cell_type": "code",
   "execution_count": 13,
   "id": "cbed16b5",
   "metadata": {},
   "outputs": [
    {
     "data": {
      "image/png": "[encoded data removed]",
      "text/plain": [
       "<Figure size 640x480 with 1 Axes>"
      ]
     },
     "metadata": {},
     "output_type": "display_data"
    }
   ],
   "source": [
    "num_bins = 100\n",
    "\n",
    "plt.hist(test_statistic_array, num_bins, density=False)\n",
    "plt.axvline(observed_test_statistic, color='red', linestyle='dashed', linewidth=2, label='Observed test statistic')\n",
    "plt.xlabel('Value')\n",
    "plt.ylabel('Frequency')\n",
    "plt.title('Histogram of the test statistic from B = 100,000 permutations')\n",
    "\n",
    "plt.legend()\n",
    "plt.show()"
   ]
  },
  {
   "cell_type": "code",
   "execution_count": 14,
   "id": "38d322f4",
   "metadata": {},
   "outputs": [
    {
     "data": {
      "text/plain": [
       "7.123297230470764"
      ]
     },
     "execution_count": 14,
     "metadata": {},
     "output_type": "execute_result"
    }
   ],
   "source": [
    "observed_test_statistic"
   ]
  },
  {
   "cell_type": "code",
   "execution_count": 15,
   "id": "3b582f2c",
   "metadata": {},
   "outputs": [],
   "source": [
    "p_value_estimated = np.where(test_statistic_array >= observed_test_statistic)[0].shape[0]/N_permutations"
   ]
  },
  {
   "cell_type": "code",
   "execution_count": 16,
   "id": "fb1b65d2",
   "metadata": {},
   "outputs": [
    {
     "name": "stdout",
     "output_type": "stream",
     "text": [
      "Estimated p value is 0.0074\n",
      "Reject Null since 0.0074 < 0.05\n"
     ]
    }
   ],
   "source": [
    "print(f'Estimated p value is {p_value_estimated:.4f}')\n",
    "print(f'Reject Null since {p_value_estimated:.4f} < 0.05')"
   ]
  },
  {
   "cell_type": "code",
   "execution_count": 17,
   "id": "f758fd13",
   "metadata": {},
   "outputs": [
    {
     "data": {
      "image/png": "[encoded data removed]",
      "text/plain": [
       "<Figure size 640x480 with 1 Axes>"
      ]
     },
     "metadata": {},
     "output_type": "display_data"
    }
   ],
   "source": [
    "df = 1\n",
    "x = np.linspace(0.1, 9, 1000)\n",
    "pdf = chi2.pdf(x, df)\n",
    "\n",
    "plt.plot(x, pdf, label=f'χ² distribution (df={df})')\n",
    "plt.axvline(observed_test_statistic, color='red', linestyle='dashed', linewidth=2, label='Observed test statistic')\n",
    "plt.xlabel('X')\n",
    "plt.ylabel('PDF')\n",
    "plt.title(f'Probability Density Function (PDF) of χ² distribution (df={df})')\n",
    "plt.legend()\n",
    "plt.grid(True)\n",
    "\n",
    "plt.show()"
   ]
  },
  {
   "cell_type": "code",
   "execution_count": 18,
   "id": "227f5a68",
   "metadata": {},
   "outputs": [
    {
     "name": "stdout",
     "output_type": "stream",
     "text": [
      "P(x >= 7.123297230470764) = 0.0076\n",
      "Reject Null since 0.0076 < 0.05\n"
     ]
    }
   ],
   "source": [
    "p_value_asympthotic = 1 - chi2.cdf(observed_test_statistic, df)\n",
    "\n",
    "print(f'P(x >= {observed_test_statistic}) = {p_value_asympthotic:.4f}')\n",
    "print(f'Reject Null since {p_value_asympthotic:.4f} < 0.05')"
   ]
  },
  {
   "cell_type": "code",
   "execution_count": 19,
   "id": "e45644e4",
   "metadata": {},
   "outputs": [],
   "source": [
    "#FWER"
   ]
  },
  {
   "cell_type": "code",
   "execution_count": 25,
   "id": "754d4dcd",
   "metadata": {},
   "outputs": [],
   "source": [
    "test_statistic_list = []\n",
    "p_value_list = []\n",
    "for i in range(10):\n",
    "    SNP = genos[:,i]\n",
    "    pearson_result = stats.pearsonr(phenos,SNP)\n",
    "    observed_test_statistic_2, observed_p_value = N_individuals * (pearson_result.statistic**2), pearson_result.pvalue\n",
    "    test_statistic_list.append(observed_test_statistic_2)\n",
    "    p_value_asympthotic = 1 - chi2.cdf(observed_test_statistic_2, df)\n",
    "    p_value_list.append(p_value_asympthotic)"
   ]
  },
  {
   "cell_type": "code",
   "execution_count": 26,
   "id": "04422938",
   "metadata": {},
   "outputs": [
    {
     "data": {
      "text/plain": [
       "[0.007608864352767197,\n",
       " 0.5529325726684817,\n",
       " 0.08041859379978811,\n",
       " 0.03076361349340162,\n",
       " 0.004045787087248787,\n",
       " 0.007608864352767197,\n",
       " 0.5569051171445523,\n",
       " 0.00893560663839088,\n",
       " 0.005661036886680071,\n",
       " 0.04924810580014638]"
      ]
     },
     "execution_count": 26,
     "metadata": {},
     "output_type": "execute_result"
    }
   ],
   "source": [
    "p_value_list"
   ]
  },
  {
   "cell_type": "code",
   "execution_count": 28,
   "id": "4635e83a",
   "metadata": {},
   "outputs": [
    {
     "data": {
      "text/plain": [
       "[7.123297230470764,\n",
       " 0.3520897106556389,\n",
       " 3.0564215614821584,\n",
       " 4.66610544333577,\n",
       " 8.263149848266774,\n",
       " 7.123297230470764,\n",
       " 0.34509121100900975,\n",
       " 6.835652112203338,\n",
       " 7.655153677861439,\n",
       " 3.866876082210885]"
      ]
     },
     "execution_count": 28,
     "metadata": {},
     "output_type": "execute_result"
    }
   ],
   "source": [
    "test_statistic_list"
   ]
  },
  {
   "cell_type": "code",
   "execution_count": 22,
   "id": "c8f0c0ce",
   "metadata": {},
   "outputs": [],
   "source": [
    "alpha = 0.05"
   ]
  },
  {
   "cell_type": "code",
   "execution_count": 23,
   "id": "f73b8372",
   "metadata": {},
   "outputs": [],
   "source": [
    "rejected = np.array(p_value_list) < (alpha/len(p_value_list))"
   ]
  },
  {
   "cell_type": "code",
   "execution_count": 24,
   "id": "01e36105",
   "metadata": {},
   "outputs": [
    {
     "data": {
      "text/plain": [
       "array([False, False, False, False,  True, False, False, False, False,\n",
       "       False])"
      ]
     },
     "execution_count": 24,
     "metadata": {},
     "output_type": "execute_result"
    }
   ],
   "source": [
    "rejected"
   ]
  },
  {
   "cell_type": "code",
   "execution_count": null,
   "id": "16d7e77b",
   "metadata": {},
   "outputs": [],
   "source": []
  }
 ],
 "metadata": {
  "kernelspec": {
   "display_name": "Python 3 (ipykernel)",
   "language": "python",
   "name": "python3"
  },
  "language_info": {
   "codemirror_mode": {
    "name": "ipython",
    "version": 3
   },
   "file_extension": ".py",
   "mimetype": "text/x-python",
   "name": "python",
   "nbconvert_exporter": "python",
   "pygments_lexer": "ipython3",
   "version": "3.10.9"
  }
 },
 "nbformat": 4,
 "nbformat_minor": 5
}
